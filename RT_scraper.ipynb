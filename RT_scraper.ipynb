{
 "cells": [
  {
   "cell_type": "code",
   "execution_count": null,
   "metadata": {},
   "outputs": [],
   "source": [
    "from selenium import webdriver\n",
    "from selenium.webdriver.common.keys import Keys\n",
    "import pandas as pd\n",
    "import time"
   ]
  },
  {
   "cell_type": "code",
   "execution_count": null,
   "metadata": {},
   "outputs": [],
   "source": [
    "df = pd.DataFrame({'Reviews':[], 'Stars':[], 'Title':[]})"
   ]
  },
  {
   "cell_type": "code",
   "execution_count": null,
   "metadata": {},
   "outputs": [],
   "source": [
    "driver = webdriver.Chrome('./chromedriver_win32/chromedriver')"
   ]
  },
  {
   "cell_type": "code",
   "execution_count": null,
   "metadata": {},
   "outputs": [],
   "source": [
    "def scrape_film(url):\n",
    "    \n",
    "    driver.get(url)\n",
    "\n",
    "    reviews = driver.find_elements_by_class_name(\"audience-reviews__review--mobile.js-review-text.clamp.clamp-4.js-clamp\")\n",
    "    rev = []\n",
    "    for r in reviews:\n",
    "        rev.append(r.text)\n",
    "\n",
    "    ratings = driver.find_elements_by_class_name(\"star-display\")\n",
    "    stars = []\n",
    "    for s in ratings:\n",
    "        html = s.get_attribute('innerHTML')\n",
    "        star_count = float(html.count(\"display__filled\"))\n",
    "        if \"display__half\" in html:\n",
    "            star_count += 0.5\n",
    "\n",
    "        stars.append(star_count)\n",
    "\n",
    "    if len(reviews) != len(stars):\n",
    "        print(\"Warning: length of star values and reviews does not match!\")\n",
    "\n",
    "    title_source = driver.find_elements_by_class_name(\"panel-heading\")\n",
    "    title = title_source[0].text\n",
    "    if \"REVIEWS\" in title:\n",
    "        title = title[:-8]\n",
    "    \n",
    "    print(title)\n",
    "\n",
    "    return pd.DataFrame({\"Reviews\":rev, \"Stars\":stars, \"Title\":title})"
   ]
  },
  {
   "cell_type": "code",
   "execution_count": null,
   "metadata": {
    "scrolled": true
   },
   "outputs": [],
   "source": [
    "# test obtaining reviews/ratings for one movie ('The Wolf Man'):\n",
    "\n",
    "scrape_film('https://www.rottentomatoes.com/m/wolf_man/reviews?type=user')"
   ]
  },
  {
   "cell_type": "code",
   "execution_count": null,
   "metadata": {},
   "outputs": [],
   "source": [
    "# Get list of horror titles from the main page\n",
    "\n",
    "driver.get('https://www.rottentomatoes.com/top/bestofrt/top_100_horror_movies/')\n",
    "\n",
    "films_elements = driver.find_elements_by_class_name(\"unstyled.articleLink\")\n",
    "films = []\n",
    "for e in films_elements:\n",
    "    films.append(e.text)\n",
    "films = [f for f in films if f != '']\n",
    "\n",
    "# Get list of links to 100 horror movie sites\n",
    "links = []\n",
    "for i in range(1, 101):\n",
    "    \n",
    "    element = driver.find_elements_by_xpath(\"//*[@id='top_movies_main']/div/table/tbody/tr[\" + str(i) + \"]/td[3]/a\")\n",
    "    for e in element:\n",
    "        href = e.get_attribute('href')\n",
    "        links.append(href)"
   ]
  },
  {
   "cell_type": "code",
   "execution_count": null,
   "metadata": {
    "scrolled": false
   },
   "outputs": [],
   "source": [
    "# iterate through horror movie Rotten Tomato review links and successively append scraped ratings/reviews to df\n",
    "\n",
    "count = 1\n",
    "for link in links:\n",
    "    print(str(count) + \" out of 100\")\n",
    "    reviews_url = link + '/reviews?type=user'\n",
    "    \n",
    "    film_df = scrape_film(reviews_url)\n",
    "    \n",
    "    df = df.append(film_df)\n",
    "    \n",
    "    time.sleep(10) # So our IP address doesn't get blocked by RottenTomatoes\n",
    "    \n",
    "    count += 1\n",
    "print(\"Done\")"
   ]
  },
  {
   "cell_type": "code",
   "execution_count": null,
   "metadata": {},
   "outputs": [],
   "source": [
    "# export our df to CSV\n",
    "df.to_csv(r'.\\reviews_df.csv', index = False)"
   ]
  }
 ],
 "metadata": {
  "kernelspec": {
   "display_name": "Python 3",
   "language": "python",
   "name": "python3"
  },
  "language_info": {
   "codemirror_mode": {
    "name": "ipython",
    "version": 3
   },
   "file_extension": ".py",
   "mimetype": "text/x-python",
   "name": "python",
   "nbconvert_exporter": "python",
   "pygments_lexer": "ipython3",
   "version": "3.7.4"
  }
 },
 "nbformat": 4,
 "nbformat_minor": 2
}
